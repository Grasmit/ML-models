{
 "cells": [
  {
   "cell_type": "code",
   "execution_count": 82,
   "metadata": {},
   "outputs": [
    {
     "name": "stdout",
     "output_type": "stream",
     "text": [
      "<bound method NDFrame.head of      G1  G2  G3  studytime  failures  absences\n",
      "0     5   6   6          2         0         6\n",
      "1     5   5   6          2         0         4\n",
      "2     7   8  10          2         3        10\n",
      "3    15  14  15          3         0         2\n",
      "4     6  10  10          2         0         4\n",
      "..   ..  ..  ..        ...       ...       ...\n",
      "390   9   9   9          2         2        11\n",
      "391  14  16  16          1         0         3\n",
      "392  10   8   7          1         3         3\n",
      "393  11  12  10          1         0         0\n",
      "394   8   9   9          1         0         5\n",
      "\n",
      "[395 rows x 6 columns]>\n"
     ]
    }
   ],
   "source": [
    "import pandas as pd\n",
    "import numpy as np\n",
    "from sklearn.model_selection import train_test_split\n",
    "from sklearn.linear_model import LinearRegression\n",
    "import joblib\n",
    "\n",
    "dataset = pd.read_csv(\"students.csv\",sep = \";\")\n",
    "#print(dataset)\n",
    "\n",
    "dataset = dataset[['G1','G2','G3','studytime','failures','absences']]\n",
    "print(dataset.head)"
   ]
  },
  {
   "cell_type": "code",
   "execution_count": 85,
   "metadata": {},
   "outputs": [
    {
     "name": "stdout",
     "output_type": "stream",
     "text": [
      "[8.12157256]\n",
      "0.7894795917421911\n"
     ]
    }
   ],
   "source": [
    "# dataset.describe()\n",
    "# dataset.shape\n",
    "pd.isna(dataset)\n",
    "\n",
    "X = dataset.drop(columns=['G3'])\n",
    "y = dataset.G3\n",
    "\n",
    "# print(X)\n",
    "# print(y)\n",
    "\n",
    "X_train,X_test,y_train,y_test =train_test_split(X,y,test_size=0.3)\n",
    "\n",
    "# print(X_train)\n",
    "# print(y_train)\n",
    "# print(X_test)\n",
    "# print(y_test)\n",
    "\n",
    "lr = LinearRegression()\n",
    "\n",
    "model = lr.fit(X_train,y_train)\n",
    "\n",
    "predictions = lr.predict([[9,9,2,2,11]])\n",
    "print(predictions)\n",
    "\n",
    "\n",
    "acc = lr.score(X_test,y_test)\n",
    "print(acc)\n",
    "\n"
   ]
  },
  {
   "cell_type": "code",
   "execution_count": 84,
   "metadata": {},
   "outputs": [
    {
     "data": {
      "text/plain": [
       "['students_grade.joblib']"
      ]
     },
     "execution_count": 84,
     "metadata": {},
     "output_type": "execute_result"
    }
   ],
   "source": [
    "joblib.dump(model,'students_grade.joblib')"
   ]
  },
  {
   "cell_type": "code",
   "execution_count": null,
   "metadata": {},
   "outputs": [],
   "source": []
  }
 ],
 "metadata": {
  "kernelspec": {
   "display_name": "Python 3",
   "language": "python",
   "name": "python3"
  },
  "language_info": {
   "codemirror_mode": {
    "name": "ipython",
    "version": 3
   },
   "file_extension": ".py",
   "mimetype": "text/x-python",
   "name": "python",
   "nbconvert_exporter": "python",
   "pygments_lexer": "ipython3",
   "version": "3.8.5"
  }
 },
 "nbformat": 4,
 "nbformat_minor": 4
}
